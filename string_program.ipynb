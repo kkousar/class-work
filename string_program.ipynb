{
  "nbformat": 4,
  "nbformat_minor": 0,
  "metadata": {
    "colab": {
      "name": "Untitled19.ipynb",
      "provenance": [],
      "authorship_tag": "ABX9TyM4BLGOyRJQP1wHr4vEuhgq",
      "include_colab_link": true
    },
    "kernelspec": {
      "name": "python3",
      "display_name": "Python 3"
    },
    "language_info": {
      "name": "python"
    }
  },
  "cells": [
    {
      "cell_type": "markdown",
      "metadata": {
        "id": "view-in-github",
        "colab_type": "text"
      },
      "source": [
        "<a href=\"https://colab.research.google.com/github/kkousar/class-work/blob/main/string_program.ipynb\" target=\"_parent\"><img src=\"https://colab.research.google.com/assets/colab-badge.svg\" alt=\"Open In Colab\"/></a>"
      ]
    },
    {
      "cell_type": "markdown",
      "source": [
        "remove given character from string method 1"
      ],
      "metadata": {
        "id": "h294TK0IJvt2"
      }
    },
    {
      "cell_type": "code",
      "execution_count": 7,
      "metadata": {
        "id": "UCOOrnQTax-8",
        "colab": {
          "base_uri": "https://localhost:8080/"
        },
        "outputId": "202bf99c-5f77-4c14-913c-fd6cc23b0859"
      },
      "outputs": [
        {
          "output_type": "stream",
          "name": "stdout",
          "text": [
            "enter stringdsfd\n",
            "enter the character to be removedd\n",
            "sf\n"
          ]
        }
      ],
      "source": [
        "s=input('enter string');\n",
        "c=input('enter the character to be removed: ');\n",
        "if c in s:\n",
        "  print(s.replace(c,''));\n",
        "else:\n",
        "  print('given character is not in string: ');"
      ]
    },
    {
      "cell_type": "markdown",
      "source": [
        "remove character method 2"
      ],
      "metadata": {
        "id": "ITvznzZKMZNm"
      }
    },
    {
      "cell_type": "code",
      "source": [
        "s=input('enter string');\n",
        "c=input('enter the character to be removed: ');\n",
        "dic={ord(c):''};\n",
        "if c in s:\n",
        "  print(s.translate(dic));\n",
        "else:\n",
        "  print('given character is not in string: ');"
      ],
      "metadata": {
        "id": "rWoieXPjMdEJ"
      },
      "execution_count": null,
      "outputs": []
    },
    {
      "cell_type": "markdown",
      "source": [
        "remove character method 3"
      ],
      "metadata": {
        "id": "C9YP6igyaqjC"
      }
    },
    {
      "cell_type": "markdown",
      "source": [
        "occurance of given character in a string using for loop"
      ],
      "metadata": {
        "id": "FK2Gt_mDNM6M"
      }
    },
    {
      "cell_type": "code",
      "source": [
        "s=input('enter string');\n",
        "c=input('enter the character to be removed: ');\n",
        "count=0;\n",
        "if c in s:\n",
        "  for i in s:\n",
        "    if i==c:\n",
        "      count+=1;\n",
        "  print('given character is repeated',count,'times')\n",
        "else:\n",
        "  print('not present')\n",
        "\n"
      ],
      "metadata": {
        "colab": {
          "base_uri": "https://localhost:8080/"
        },
        "id": "pDklrbjPNRIZ",
        "outputId": "4fd111d7-def0-4699-dd4b-67cc52b4ec15"
      },
      "execution_count": 13,
      "outputs": [
        {
          "output_type": "stream",
          "name": "stdout",
          "text": [
            "enter stringkutta\n",
            "enter the character to be removed: t\n",
            "given character is repeated 2 times\n"
          ]
        }
      ]
    },
    {
      "cell_type": "markdown",
      "source": [
        "occurance of given character in a string using while loop"
      ],
      "metadata": {
        "id": "McdCC703OM_x"
      }
    },
    {
      "cell_type": "code",
      "source": [
        "s=input('enter string');\n",
        "c=input('enter the character to be removed: ');\n",
        "n=len(s);\n",
        "index=0;\n",
        "count=0\n",
        "if c in s:\n",
        "  while(index<n):\n",
        "    if s[index]==c:\n",
        "      count+=1;\n",
        "    index+=1;\n",
        " e print('given character is repeated',count,'times')\n",
        "else:\n",
        "  print('not present')\n"
      ],
      "metadata": {
        "id": "LXHm8Bk6OP_t"
      },
      "execution_count": null,
      "outputs": []
    },
    {
      "cell_type": "markdown",
      "source": [
        "anagram or not"
      ],
      "metadata": {
        "id": "ZL4jL71wPZKE"
      }
    },
    {
      "cell_type": "code",
      "source": [
        "s1=input('enter string');\n",
        "s2=input('enter the string to be checked: ');\n",
        "if sorted(s1)==sorted(s2):\n",
        "  print(s2+' is anagram of '+s1);\n",
        "else:\n",
        "  print('no');"
      ],
      "metadata": {
        "id": "UIvw5I84PYi6"
      },
      "execution_count": null,
      "outputs": []
    },
    {
      "cell_type": "markdown",
      "source": [
        "palindrome"
      ],
      "metadata": {
        "id": "qCeyhRTvQYiP"
      }
    },
    {
      "cell_type": "code",
      "source": [
        "s=input('enter string');\n",
        "if s==s[::-1]:\n",
        "  print('it is a palindrome');\n",
        "else:\n",
        "  print('it is not a palindrome');"
      ],
      "metadata": {
        "colab": {
          "base_uri": "https://localhost:8080/"
        },
        "id": "QbizRXIAQcFX",
        "outputId": "528f7dd6-5ba0-4ec5-ed7f-95c56145da21"
      },
      "execution_count": 27,
      "outputs": [
        {
          "output_type": "stream",
          "name": "stdout",
          "text": [
            "enter stringkousar\n",
            "it is not a palindrome\n"
          ]
        }
      ]
    },
    {
      "cell_type": "markdown",
      "source": [
        "fill the space with given character"
      ],
      "metadata": {
        "id": "HNslh32hWP1a"
      }
    },
    {
      "cell_type": "code",
      "source": [
        "string = input(\"Enter a String : \")\n",
        "result = ''  #empty string\n",
        "ch = input(\"Enter a Character : \")\n",
        "for i in string:  #iterating using for loop\n",
        "        if i == ' ':  #if any space found in the string\n",
        "            i = ch   #replacing space with character\n",
        "        result += i   #concatenating each character of the string without space\n",
        "print(result)"
      ],
      "metadata": {
        "colab": {
          "base_uri": "https://localhost:8080/"
        },
        "id": "0t0oCIuoWSuc",
        "outputId": "341dc9f4-1251-4e15-cea4-4f3c7d3c6fce"
      },
      "execution_count": 33,
      "outputs": [
        {
          "output_type": "stream",
          "name": "stdout",
          "text": [
            "Enter a String : kou sar\n",
            "Enter a Character : s\n",
            "koussar\n"
          ]
        }
      ]
    },
    {
      "cell_type": "code",
      "source": [
        "string = input(\"Enter a String : \");\n",
        "ch = input(\"Enter a Character : \");\n",
        "for i in string:\n",
        "  if i==' ':\n",
        "    print(string.replace(i,ch));\n"
      ],
      "metadata": {
        "id": "GWYxsmqXcJer"
      },
      "execution_count": null,
      "outputs": []
    },
    {
      "cell_type": "markdown",
      "source": [
        "lower to upper case "
      ],
      "metadata": {
        "id": "cLhlMCaqffaO"
      }
    },
    {
      "cell_type": "code",
      "source": [
        "string = input(\"Enter a String : \");\n",
        "new=''\n",
        "for i in string:\n",
        "  i=(i.upper());\n",
        "  new +=i\n",
        "print(new)"
      ],
      "metadata": {
        "colab": {
          "base_uri": "https://localhost:8080/"
        },
        "id": "zSrF5Llafif3",
        "outputId": "0dc99fd6-941f-4136-a876-ac353feb86ba"
      },
      "execution_count": 41,
      "outputs": [
        {
          "output_type": "stream",
          "name": "stdout",
          "text": [
            "Enter a String : advf\n",
            "ADVF\n"
          ]
        }
      ]
    },
    {
      "cell_type": "markdown",
      "source": [
        "highest frequency characeter"
      ],
      "metadata": {
        "id": "l7ksQZEihFWm"
      }
    },
    {
      "cell_type": "code",
      "source": [
        "string = input(\"Enter a String : \");\n",
        "dic={};\n",
        "max=0;\n",
        "res='';\n",
        "for i in string:\n",
        "  c=0;\n",
        "  for j in string:\n",
        "    if i==j:\n",
        "      c+=1;\n",
        "      if c>max:\n",
        "        max=c;\n",
        "        res=i;\n",
        "  dic[i]=c;\n",
        "print(res)\n",
        "\n",
        "\n",
        "  "
      ],
      "metadata": {
        "id": "_qjvPh7bhEvF"
      },
      "execution_count": null,
      "outputs": []
    }
  ]
}