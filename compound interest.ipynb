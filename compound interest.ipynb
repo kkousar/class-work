{
  "nbformat": 4,
  "nbformat_minor": 0,
  "metadata": {
    "colab": {
      "name": "Untitled16.ipynb",
      "provenance": [],
      "authorship_tag": "ABX9TyPPxxeF6/4HI2V5ArTauVeh",
      "include_colab_link": true
    },
    "kernelspec": {
      "name": "python3",
      "display_name": "Python 3"
    },
    "language_info": {
      "name": "python"
    }
  },
  "cells": [
    {
      "cell_type": "markdown",
      "metadata": {
        "id": "view-in-github",
        "colab_type": "text"
      },
      "source": [
        "<a href=\"https://colab.research.google.com/github/kkousar/class-work/blob/main/compound%20interest.ipynb\" target=\"_parent\"><img src=\"https://colab.research.google.com/assets/colab-badge.svg\" alt=\"Open In Colab\"/></a>"
      ]
    },
    {
      "cell_type": "markdown",
      "source": [
        "#using loop\n"
      ],
      "metadata": {
        "id": "mEebESde1XnQ"
      }
    },
    {
      "cell_type": "code",
      "execution_count": null,
      "metadata": {
        "id": "B3ZRQYjhn9gM"
      },
      "outputs": [],
      "source": [
        "def interest(p,r,n,t):\n",
        "  a=p;\n",
        "  for i in range(n*t):\n",
        "    a=a+(a*r)/n;\n",
        "  return a;\n",
        "print(interest(800,0.2,2,2));\n"
      ]
    },
    {
      "cell_type": "markdown",
      "source": [
        "#using recursive function"
      ],
      "metadata": {
        "id": "kHCeWOrx1bWo"
      }
    },
    {
      "cell_type": "code",
      "source": [
        "def compoundRecursion(principal, compounded, duration, rate, numberOfRecursions):\n",
        "    if numberOfRecursions == 0:\n",
        "        totalDuration = compounded * duration\n",
        "    elif numberOfRecursions != 0:\n",
        "        totalDuration = duration\n",
        "    if duration == 0:\n",
        "        return principal\n",
        "    else:\n",
        "        newDuration = totalDuration - 1\n",
        "        amount = principal*(1+(rate/compounded))\n",
        "        return compoundRecursion(amount, compounded, newDuration, rate, 1)\n",
        "p=int(input(\"enter the principle amount:\"))\n",
        "r=float(input(\"enter the interest(in decimal form):\"))\n",
        "n=int(input(\"enter the number of times interest compounded per year:\"));\n",
        "t=int(input('enter the time(years):'))\n",
        "CI=compoundRecursion(p,n,t,r, 0)-p;\n",
        "print('the comound interest is:'+str(CI))"
      ],
      "metadata": {
        "colab": {
          "base_uri": "https://localhost:8080/"
        },
        "id": "w_6N-1N801lJ",
        "outputId": "b79cbe96-ea30-4031-fa92-b49776ee1ddb"
      },
      "execution_count": 2,
      "outputs": [
        {
          "output_type": "stream",
          "name": "stdout",
          "text": [
            "enter the principle amount:800\n",
            "enter the interest(in decimal form):0.2\n",
            "enter the number of times interest compounded per year:2\n",
            "enter the time(years):2\n",
            "the comound interest is:-371.28000000000065\n"
          ]
        }
      ]
    }
  ]
}