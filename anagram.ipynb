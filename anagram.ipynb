{
  "nbformat": 4,
  "nbformat_minor": 0,
  "metadata": {
    "colab": {
      "name": "Untitled16.ipynb",
      "provenance": [],
      "authorship_tag": "ABX9TyOheIa9p2myH+YRrzF88cuv",
      "include_colab_link": true
    },
    "kernelspec": {
      "name": "python3",
      "display_name": "Python 3"
    },
    "language_info": {
      "name": "python"
    }
  },
  "cells": [
    {
      "cell_type": "markdown",
      "metadata": {
        "id": "view-in-github",
        "colab_type": "text"
      },
      "source": [
        "<a href=\"https://colab.research.google.com/github/kkousar/class-work/blob/main/anagram.ipynb\" target=\"_parent\"><img src=\"https://colab.research.google.com/assets/colab-badge.svg\" alt=\"Open In Colab\"/></a>"
      ]
    },
    {
      "cell_type": "code",
      "source": [
        "a='abc';\n",
        "b=input('enter a string:');\n",
        "if (sorted(a)==sorted(b)):\n",
        "  print('it is a anagram');\n",
        "else:\n",
        "  print('it is not a anagram');"
      ],
      "metadata": {
        "colab": {
          "base_uri": "https://localhost:8080/"
        },
        "id": "zpT0SpMt3I2e",
        "outputId": "0cdd9ce8-3c69-4ffa-bd48-0c36395977f4"
      },
      "execution_count": 6,
      "outputs": [
        {
          "output_type": "stream",
          "name": "stdout",
          "text": [
            "enter a string:acb\n",
            "it is a anagram\n"
          ]
        }
      ]
    }
  ]
}